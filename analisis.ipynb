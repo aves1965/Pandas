{
 "cells": [
  {
   "cell_type": "markdown",
   "metadata": {},
   "source": [
    "# Trabajo Práctico Final de Pandas\n",
    "\n",
    "## Autores:\n",
    "- Alfredo Sanz\n",
    "- Juan Manuel Saad"
   ]
  },
  {
   "cell_type": "markdown",
   "metadata": {},
   "source": [
    "## **Paso 1**: Leer los archivos y crear los dataframes\n",
    "\n",
    "En este paso, se leerán los archivos CSV ubicados en la carpeta `datos` y se crearán dataframes de pandas a partir de ellos. Esto permitirá manipular y analizar los datos de las llamadas a la Línea 144 correspondientes a los años 2020, 2021, 2022 y el primer semestre de 2023."
   ]
  },
  {
   "cell_type": "code",
   "execution_count": 61,
   "metadata": {},
   "outputs": [],
   "source": [
    "import pandas as pd\n",
    "\n",
    "\n",
    "csv_files = [\n",
    "    \"./datos/linea144-2020.csv\",\n",
    "    \"./datos/linea144-2021.csv\",\n",
    "    \"./datos/linea144-enero-diciembre-2022.csv\",\n",
    "    \"./datos/linea144-enero-junio-2023.csv\",\n",
    "]\n",
    "\n",
    "csv2020 = pd.read_csv(csv_files[0])\n",
    "csv2021 = pd.read_csv(csv_files[1])\n",
    "csv2022 = pd.read_csv(csv_files[2])\n",
    "csv2023 = pd.read_csv(csv_files[3])"
   ]
  },
  {
   "cell_type": "markdown",
   "metadata": {},
   "source": [
    "## **Paso 2**: Análisis de columnas"
   ]
  },
  {
   "cell_type": "code",
   "execution_count": 62,
   "metadata": {},
   "outputs": [
    {
     "data": {
      "text/html": [
       "<div>\n",
       "<style scoped>\n",
       "    .dataframe tbody tr th:only-of-type {\n",
       "        vertical-align: middle;\n",
       "    }\n",
       "\n",
       "    .dataframe tbody tr th {\n",
       "        vertical-align: top;\n",
       "    }\n",
       "\n",
       "    .dataframe thead th {\n",
       "        text-align: right;\n",
       "    }\n",
       "</style>\n",
       "<table border=\"1\" class=\"dataframe\">\n",
       "  <thead>\n",
       "    <tr style=\"text-align: right;\">\n",
       "      <th></th>\n",
       "      <th>2020</th>\n",
       "      <th>2021</th>\n",
       "      <th>2022</th>\n",
       "      <th>2023</th>\n",
       "    </tr>\n",
       "  </thead>\n",
       "  <tbody>\n",
       "    <tr>\n",
       "      <th>Fecha</th>\n",
       "      <td>0.0</td>\n",
       "      <td>0.0</td>\n",
       "      <td>1.0</td>\n",
       "      <td>1.0</td>\n",
       "    </tr>\n",
       "    <tr>\n",
       "      <th>fecha</th>\n",
       "      <td>1.0</td>\n",
       "      <td>1.0</td>\n",
       "      <td>0.0</td>\n",
       "      <td>0.0</td>\n",
       "    </tr>\n",
       "  </tbody>\n",
       "</table>\n",
       "</div>"
      ],
      "text/plain": [
       "       2020  2021  2022  2023\n",
       "Fecha   0.0   0.0   1.0   1.0\n",
       "fecha   1.0   1.0   0.0   0.0"
      ]
     },
     "execution_count": 62,
     "metadata": {},
     "output_type": "execute_result"
    }
   ],
   "source": [
    "# Extract the column names\n",
    "columns2020 = csv2020.columns\n",
    "columns2021 = csv2021.columns\n",
    "columns2022 = csv2022.columns\n",
    "columns2023 = csv2023.columns\n",
    "\n",
    "all_columns_df = pd.DataFrame({\n",
    "    '2020': columns2020,\n",
    "    '2021': columns2021,\n",
    "    '2022': columns2022,\n",
    "    '2023': columns2023\n",
    "})\n",
    "\n",
    "# Count the number of times each column appears in the dataframe\n",
    "unique_columns = all_columns_df.apply(pd.Series.value_counts).fillna(0)\n",
    "\n",
    "# If unique_columns.sum(axis=1) is not equals to the length of all_columns_df.columns, then the columns are not the same\n",
    "unique_columns = unique_columns[unique_columns.sum(axis=1) != len(all_columns_df.columns)]\n",
    "\n",
    "# If unique_columns is empty, then all the columns are the same\n",
    "unique_columns"
   ]
  },
  {
   "cell_type": "markdown",
   "metadata": {},
   "source": [
    "### **Paso 2.1**: normalizacion de columnas"
   ]
  },
  {
   "cell_type": "code",
   "execution_count": 63,
   "metadata": {},
   "outputs": [],
   "source": [
    "# Rename columns to lowercase\n",
    "csv2022.columns = csv2022.columns.str.lower()\n",
    "csv2023.columns = csv2023.columns.str.lower()"
   ]
  },
  {
   "cell_type": "markdown",
   "metadata": {},
   "source": [
    "### **Paso 2.3**: Rechequeo de columnas"
   ]
  },
  {
   "cell_type": "code",
   "execution_count": 64,
   "metadata": {},
   "outputs": [
    {
     "data": {
      "text/html": [
       "<div>\n",
       "<style scoped>\n",
       "    .dataframe tbody tr th:only-of-type {\n",
       "        vertical-align: middle;\n",
       "    }\n",
       "\n",
       "    .dataframe tbody tr th {\n",
       "        vertical-align: top;\n",
       "    }\n",
       "\n",
       "    .dataframe thead th {\n",
       "        text-align: right;\n",
       "    }\n",
       "</style>\n",
       "<table border=\"1\" class=\"dataframe\">\n",
       "  <thead>\n",
       "    <tr style=\"text-align: right;\">\n",
       "      <th></th>\n",
       "      <th>2020</th>\n",
       "      <th>2021</th>\n",
       "      <th>2022</th>\n",
       "      <th>2023</th>\n",
       "    </tr>\n",
       "  </thead>\n",
       "  <tbody>\n",
       "  </tbody>\n",
       "</table>\n",
       "</div>"
      ],
      "text/plain": [
       "Empty DataFrame\n",
       "Columns: [2020, 2021, 2022, 2023]\n",
       "Index: []"
      ]
     },
     "execution_count": 64,
     "metadata": {},
     "output_type": "execute_result"
    }
   ],
   "source": [
    "# Extract the column names\n",
    "columns2020 = csv2020.columns\n",
    "columns2021 = csv2021.columns\n",
    "columns2022 = csv2022.columns\n",
    "columns2023 = csv2023.columns\n",
    "\n",
    "all_columns_df = pd.DataFrame({\n",
    "    '2020': columns2020,\n",
    "    '2021': columns2021,\n",
    "    '2022': columns2022,\n",
    "    '2023': columns2023\n",
    "})\n",
    "\n",
    "# Count the number of times each column appears in the dataframe\n",
    "unique_columns = all_columns_df.apply(pd.Series.value_counts).fillna(0)\n",
    "\n",
    "# If unique_columns.sum(axis=1) is not equals to the length of all_columns_df.columns, then the columns are not the same\n",
    "unique_columns = unique_columns[unique_columns.sum(axis=1) != len(all_columns_df.columns)]\n",
    "\n",
    "# If unique_columns is empty, then all the columns are the same\n",
    "unique_columns"
   ]
  }
 ],
 "metadata": {
  "kernelspec": {
   "display_name": "Python 3",
   "language": "python",
   "name": "python3"
  },
  "language_info": {
   "codemirror_mode": {
    "name": "ipython",
    "version": 3
   },
   "file_extension": ".py",
   "mimetype": "text/x-python",
   "name": "python",
   "nbconvert_exporter": "python",
   "pygments_lexer": "ipython3",
   "version": "3.12.1"
  }
 },
 "nbformat": 4,
 "nbformat_minor": 2
}
